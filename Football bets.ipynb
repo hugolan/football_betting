{
 "cells": [
  {
   "cell_type": "code",
   "execution_count": 1,
   "id": "98bf6bd3",
   "metadata": {},
   "outputs": [],
   "source": [
    "import numpy as np\n",
    "import pandas as pd\n",
    "import matplotlib.pyplot as plt\n",
    "import warnings\n",
    "warnings.simplefilter(action='ignore', category=FutureWarning)"
   ]
  },
  {
   "cell_type": "code",
   "execution_count": 2,
   "id": "21668b3b",
   "metadata": {},
   "outputs": [],
   "source": [
    "data = pd.read_csv(\"football_data/australia-a-league-matches-2019-to-2020-stats.csv\")"
   ]
  },
  {
   "cell_type": "code",
   "execution_count": 4,
   "id": "4d8ffd8b",
   "metadata": {
    "scrolled": true
   },
   "outputs": [],
   "source": [
    "data = pd.DataFrame()\n",
    "for y in range(2015,2023):\n",
    "    data = data.append(pd.read_csv(\"football_data/australia-a-league-matches-{}-to-{}-stats.csv\".format(y,y+1)), ignore_index=True)"
   ]
  },
  {
   "cell_type": "code",
   "execution_count": 5,
   "id": "19b1db68",
   "metadata": {},
   "outputs": [],
   "source": [
    "def format_time_season(date):\n",
    "    year = date.split(\" \")[2]\n",
    "    if \"Oct\" in date or \"Nov\" in date or \"Dec\" in date:\n",
    "        return year + \" - \" + str(int(year) + 1)\n",
    "    else:\n",
    "        return str(int(year) - 1) + \" - \" + year"
   ]
  },
  {
   "cell_type": "code",
   "execution_count": 6,
   "id": "f0a38bac",
   "metadata": {
    "scrolled": true
   },
   "outputs": [],
   "source": [
    "data.date_GMT = data.date_GMT.apply(format_time_season)"
   ]
  },
  {
   "cell_type": "code",
   "execution_count": 7,
   "id": "287d5727",
   "metadata": {
    "scrolled": true
   },
   "outputs": [],
   "source": [
    "data = data[[\"date_GMT\",\"home_team_name\",\"away_team_name\",\"home_team_goal_count\", \"away_team_goal_count\",\"home_team_goal_timings\",\"away_team_goal_timings\"]]"
   ]
  },
  {
   "cell_type": "code",
   "execution_count": 8,
   "id": "33624949",
   "metadata": {
    "scrolled": true
   },
   "outputs": [],
   "source": [
    "data = data[(data[\"home_team_name\"].str.contains('Sydney FC', na=False)) | (data[\"away_team_name\"].str.contains('Sydney FC', na=False))]"
   ]
  },
  {
   "cell_type": "code",
   "execution_count": 9,
   "id": "2a2d2050",
   "metadata": {},
   "outputs": [],
   "source": [
    "#deal with for time of goals if there wasn't a goal for a given team\n",
    "data.home_team_goal_timings = data.home_team_goal_timings.fillna(\"-1\")\n",
    "data.away_team_goal_timings = data.away_team_goal_timings.fillna(\"-1\")\n",
    "\n",
    "#remove extra time format\n",
    "data[\"home_team_goal_timings\"] = data[\"home_team_goal_timings\"].apply(lambda x: [y[:2] for y in x.split(\",\")])\n",
    "data[\"away_team_goal_timings\"] = data[\"away_team_goal_timings\"].apply(lambda x: [y[:2] for y in x.split(\",\")])\n",
    "\n",
    "#get sydney goals\n",
    "data[\"sydney_goals\"] = data.apply(lambda x: x[\"home_team_goal_count\"] if \"Sydney FC\" in x[\"home_team_name\"] else x[\"away_team_goal_count\"], axis=1)\n",
    "#get opponent goals\n",
    "data[\"away_goals\"] = data.apply(lambda x: x[\"away_team_goal_count\"] if \"Sydney FC\" in x[\"home_team_name\"] else x[\"home_team_goal_count\"], axis=1)\n",
    "#get local stadium\n",
    "data[\"sydney_home_stadium\"] = data.apply(lambda x: 1 if \"Sydney FC\" in x[\"home_team_name\"] else 0, axis=1)\n",
    "#get winning team\n",
    "data[\"sydney_match_results\"] = data.apply(lambda x: 1 if x[\"sydney_goals\"]>x[\"away_goals\"] else (0 if x[\"sydney_goals\"] == x[\"away_goals\"] else -1), axis=1)\n"
   ]
  },
  {
   "cell_type": "code",
   "execution_count": 10,
   "id": "feddf906",
   "metadata": {},
   "outputs": [
    {
     "data": {
      "image/png": "[encoded data removed]",
      "text/plain": [
       "<Figure size 432x288 with 1 Axes>"
      ]
     },
     "metadata": {
      "needs_background": "light"
     },
     "output_type": "display_data"
    }
   ],
   "source": [
    "winning_results = data.sydney_match_results.value_counts()/data.sydney_match_results.count()\n",
    "winning_results.plot(kind='bar')\n",
    "plt.xlabel('Outcome: 1 win, 0 draw and -1 defeat')\n",
    "plt.ylabel('Distribution in %')\n",
    "plt.title('Winning rate')\n",
    "plt.show()"
   ]
  },
  {
   "cell_type": "code",
   "execution_count": 14,
   "id": "9b8694fa",
   "metadata": {
    "scrolled": true
   },
   "outputs": [
    {
     "data": {
      "image/png": "[encoded data removed]",
      "text/plain": [
       "<Figure size 432x288 with 1 Axes>"
      ]
     },
     "metadata": {
      "needs_background": "light"
     },
     "output_type": "display_data"
    }
   ],
   "source": [
    "goal_distribution = data[\"home_team_goal_timings\"].explode().value_counts().drop(\"-1\").sort_index()\n",
    "goal_distribution.index = goal_distribution.index.astype('float')\n",
    "goal_distribution_all_minutes = goal_distribution.reindex(range(0, 91), fill_value=0)\n",
    "ax = goal_distribution_all_minutes.plot(kind='bar')\n",
    "ax.set_xticks([0,15,30,45,60,75,90])\n",
    "plt.xlabel('Time')\n",
    "plt.ylabel('Number of goals')\n",
    "plt.title('Goal time distribution')\n",
    "plt.show()"
   ]
  },
  {
   "cell_type": "code",
   "execution_count": null,
   "id": "c1d3fbc3",
   "metadata": {},
   "outputs": [],
   "source": []
  },
  {
   "cell_type": "code",
   "execution_count": 3,
   "id": "f4f16d3d",
   "metadata": {
    "scrolled": true
   },
   "outputs": [
    {
     "data": {
      "text/plain": [
       "Index(['timestamp', 'date_GMT', 'status', 'attendance', 'home_team_name',\n",
       "       'away_team_name', 'referee', 'Game Week', 'Pre-Match PPG (Home)',\n",
       "       'Pre-Match PPG (Away)', 'home_ppg', 'away_ppg', 'home_team_goal_count',\n",
       "       'away_team_goal_count', 'total_goal_count', 'total_goals_at_half_time',\n",
       "       'home_team_goal_count_half_time', 'away_team_goal_count_half_time',\n",
       "       'home_team_goal_timings', 'away_team_goal_timings',\n",
       "       'home_team_corner_count', 'away_team_corner_count',\n",
       "       'home_team_yellow_cards', 'home_team_red_cards',\n",
       "       'away_team_yellow_cards', 'away_team_red_cards',\n",
       "       'home_team_first_half_cards', 'home_team_second_half_cards',\n",
       "       'away_team_first_half_cards', 'away_team_second_half_cards',\n",
       "       'home_team_shots', 'away_team_shots', 'home_team_shots_on_target',\n",
       "       'away_team_shots_on_target', 'home_team_shots_off_target',\n",
       "       'away_team_shots_off_target', 'home_team_fouls', 'away_team_fouls',\n",
       "       'home_team_possession', 'away_team_possession',\n",
       "       'Home Team Pre-Match xG', 'Away Team Pre-Match xG', 'team_a_xg',\n",
       "       'team_b_xg', 'average_goals_per_match_pre_match',\n",
       "       'btts_percentage_pre_match', 'over_15_percentage_pre_match',\n",
       "       'over_25_percentage_pre_match', 'over_35_percentage_pre_match',\n",
       "       'over_45_percentage_pre_match', 'over_15_HT_FHG_percentage_pre_match',\n",
       "       'over_05_HT_FHG_percentage_pre_match',\n",
       "       'over_15_2HG_percentage_pre_match', 'over_05_2HG_percentage_pre_match',\n",
       "       'average_corners_per_match_pre_match',\n",
       "       'average_cards_per_match_pre_match', 'odds_ft_home_team_win',\n",
       "       'odds_ft_draw', 'odds_ft_away_team_win', 'odds_ft_over15',\n",
       "       'odds_ft_over25', 'odds_ft_over35', 'odds_ft_over45', 'odds_btts_yes',\n",
       "       'odds_btts_no', 'stadium_name'],\n",
       "      dtype='object')"
      ]
     },
     "execution_count": 3,
     "metadata": {},
     "output_type": "execute_result"
    }
   ],
   "source": [
    "data.columns"
   ]
  }
 ],
 "metadata": {
  "kernelspec": {
   "display_name": "Python 3 (ipykernel)",
   "language": "python",
   "name": "python3"
  },
  "language_info": {
   "codemirror_mode": {
    "name": "ipython",
    "version": 3
   },
   "file_extension": ".py",
   "mimetype": "text/x-python",
   "name": "python",
   "nbconvert_exporter": "python",
   "pygments_lexer": "ipython3",
   "version": "3.8.12"
  }
 },
 "nbformat": 4,
 "nbformat_minor": 5
}
